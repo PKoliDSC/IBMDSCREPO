{
 "cells": [
  {
   "attachments": {},
   "cell_type": "markdown",
   "id": "dfacaec1",
   "metadata": {},
   "source": [
    "# Data Science Tools and Ecosystem!\n",
    "\n",
    "<!-- 2.Create markdown cell with title of the notebook -->"
   ]
  },
  {
   "cell_type": "markdown",
   "id": "4b4eabd0",
   "metadata": {},
   "source": [
    "#### In this notebook, Data Science Tools and Ecosystem are summarized.\n",
    "<!-- Exercise 3 - Create a markdown cell for an introduction -->"
   ]
  },
  {
   "cell_type": "markdown",
   "id": "e4153b52",
   "metadata": {},
   "source": [
    "<b>Objectives:</b>\n",
    "\n",
    "* This notebook covers Popular languages such as Python,R,SQL which is used in DataScience\n",
    "* Popular libraries by datascientists like pandas,numpy,matplotlib also for R - ggplot,dplyr\n",
    "* The tools that are popular amongst the communities jupyterlabs,R-Studio,MySql.\n",
    "\n",
    "<!-- Exercise 10 - Insert a markdown cell to list Objectives -->"
   ]
  },
  {
   "cell_type": "markdown",
   "id": "fd5a9029",
   "metadata": {},
   "source": [
    "#### Some of the popular languages that Data Scientists use are:\n",
    "\n",
    "1.Python\n",
    "\n",
    "2.R\n",
    "\n",
    "3.SQL\n",
    "\n",
    "\n",
    "<!-- Exercise 4 - Create a markdown cell to list data science languages -->"
   ]
  },
  {
   "cell_type": "markdown",
   "id": "7716ec3e",
   "metadata": {},
   "source": [
    "### Some of the commonly used libraries used by Data Scientists include:\n",
    "\n",
    "1.Pandas\n",
    "\n",
    "2.Numpy\n",
    "\n",
    "3.Matplotlib\n",
    "\n",
    "4.Sckit-learn\n",
    "\n",
    "5.TensorFlow\n",
    "\n",
    "6.Scipy\n",
    "\n",
    "7.Pytorch\n",
    "\n",
    "<!-- Exercise 5 - Create a markdown cell to list data science libraries -->"
   ]
  },
  {
   "cell_type": "markdown",
   "id": "80d7ca07",
   "metadata": {},
   "source": [
    " #### Data Science Tools:\n",
    " \n",
    " ||\n",
    " | --- |\n",
    " |Jupyter|\n",
    " |R-Studio|\n",
    " |MySql|\n",
    " \n",
    "<!--  Exercise 6 - Create a markdown cell with a table of Data Science tools -->"
   ]
  },
  {
   "cell_type": "markdown",
   "id": "ee02465e",
   "metadata": {},
   "source": [
    "### Below are a few examples of evaluating arithmetic expressions in Python\n",
    "\n",
    "\n",
    "\n",
    "<!-- Exercise 7 - Create a markdown cell introducing arithmetic expression examples -->\n"
   ]
  },
  {
   "cell_type": "code",
   "execution_count": 19,
   "id": "8034fa05",
   "metadata": {},
   "outputs": [
    {
     "data": {
      "text/plain": [
       "17"
      ]
     },
     "execution_count": 19,
     "metadata": {},
     "output_type": "execute_result"
    }
   ],
   "source": [
    " (3*4)+5\n",
    "    \n",
    "# This a simple arithmetic expression to mutiply then add integers\n",
    "\n",
    "\n",
    "# Exercise 8 - Create a code cell to multiply and add numbers\n"
   ]
  },
  {
   "cell_type": "code",
   "execution_count": 20,
   "id": "f7a9d51b",
   "metadata": {},
   "outputs": [
    {
     "name": "stdout",
     "output_type": "stream",
     "text": [
      "3.3333333333333335\n"
     ]
    }
   ],
   "source": [
    "per_hour=60\n",
    "mins=200\n",
    "print(mins/per_hour)\n",
    "# This will convert 200 minutes to hours by diving by 60\n",
    "\n",
    "# Exercise 9 - Create a code cell to convert minutes to hours"
   ]
  },
  {
   "cell_type": "markdown",
   "id": "90775071",
   "metadata": {},
   "source": [
    "## Author : \n",
    "Prasad Koli\n",
    "\n",
    "<!-- Exercise 11 - Create a markdown cell to indicate the Author's name -->"
   ]
  }
 ],
 "metadata": {
  "kernelspec": {
   "display_name": "Python 3 (ipykernel)",
   "language": "python",
   "name": "python3"
  },
  "language_info": {
   "codemirror_mode": {
    "name": "ipython",
    "version": 3
   },
   "file_extension": ".py",
   "mimetype": "text/x-python",
   "name": "python",
   "nbconvert_exporter": "python",
   "pygments_lexer": "ipython3",
   "version": "3.9.13"
  }
 },
 "nbformat": 4,
 "nbformat_minor": 5
}
