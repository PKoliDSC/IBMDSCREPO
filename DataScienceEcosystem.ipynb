{
 "cells": [
  {
   "attachments": {},
   "cell_type": "markdown",
   "id": "8cfbf8f5",
   "metadata": {},
   "source": [
    "# Data Science Tools and Ecosystem!"
   ]
  },
  {
   "cell_type": "markdown",
   "id": "d3286327",
   "metadata": {},
   "source": [
    "#### In this notebook, Data Science Tools and Ecosystem are summarized."
   ]
  },
  {
   "cell_type": "markdown",
   "id": "7cc2d441",
   "metadata": {},
   "source": [
    "<b>Objectives:</b>\n",
    "\n",
    "* This notebook covers Popular languages such as Python,R,SQL which is used in DataScience\n",
    "* Popular libraries by datascientists like pandas,numpy,matplotlib also for R - ggplot,dplyr\n",
    "* The tools that are popular amongst the communities jupyterlabs,R-Studio,MySql.\n",
    "\n"
   ]
  },
  {
   "cell_type": "markdown",
   "id": "d42fa3e0",
   "metadata": {},
   "source": [
    "#### Some of the popular languages that Data Scientists use are:\n",
    "\n",
    "1.Python\n",
    "\n",
    "2.R\n",
    "\n",
    "3.SQL\n"
   ]
  },
  {
   "cell_type": "markdown",
   "id": "7c9ac0d6",
   "metadata": {},
   "source": [
    "### Some of the commonly used libraries used by Data Scientists include:\n",
    "\n",
    "1.Pandas\n",
    "\n",
    "2.Numpy\n",
    "\n",
    "3.Matplotlib\n",
    "\n",
    "4.Sckit-learn\n",
    "\n",
    "5.TensorFlow\n",
    "\n",
    "6.Scipy\n",
    "\n",
    "7.Pytorch"
   ]
  },
  {
   "cell_type": "markdown",
   "id": "ebd79f1b",
   "metadata": {},
   "source": [
    " #### Data Science Tools:\n",
    " \n",
    " ||\n",
    " | --- |\n",
    " |Jupyter|\n",
    " |R-Studio|\n",
    " |MySql|"
   ]
  },
  {
   "cell_type": "markdown",
   "id": "c10933e6",
   "metadata": {},
   "source": [
    "### Below are a few examples of evaluating arithmetic expressions in Python\n",
    "\n"
   ]
  },
  {
   "cell_type": "code",
   "execution_count": 2,
   "id": "9fccfc5d",
   "metadata": {},
   "outputs": [
    {
     "data": {
      "text/plain": [
       "17"
      ]
     },
     "execution_count": 2,
     "metadata": {},
     "output_type": "execute_result"
    }
   ],
   "source": [
    " (3*4)+5\n",
    "    \n",
    "# This a simple arithmetic expression to mutiply then add integers"
   ]
  },
  {
   "cell_type": "code",
   "execution_count": 18,
   "id": "56132c8e",
   "metadata": {},
   "outputs": [
    {
     "name": "stdout",
     "output_type": "stream",
     "text": [
      "3.3333333333333335\n"
     ]
    }
   ],
   "source": [
    "per_hour=60\n",
    "mins=200\n",
    "print(mins/per_hour)\n",
    "# This will convert 200 minutes to hours by diving by 60"
   ]
  },
  {
   "cell_type": "markdown",
   "id": "a4ab8bbc",
   "metadata": {},
   "source": [
    "## Author : \n",
    "Prasad Koli"
   ]
  }
 ],
 "metadata": {
  "kernelspec": {
   "display_name": "Python 3 (ipykernel)",
   "language": "python",
   "name": "python3"
  },
  "language_info": {
   "codemirror_mode": {
    "name": "ipython",
    "version": 3
   },
   "file_extension": ".py",
   "mimetype": "text/x-python",
   "name": "python",
   "nbconvert_exporter": "python",
   "pygments_lexer": "ipython3",
   "version": "3.9.13"
  }
 },
 "nbformat": 4,
 "nbformat_minor": 5
}
